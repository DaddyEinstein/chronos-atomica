{
 "cells": [
  {
   "cell_type": "markdown",
   "metadata": {},
   "source": [
    "Get Atomic Time from Internet Clock - This program will get the true atomic time from an atomic time clock on the Internet. Use any one of the atomic clocks returned by a simple Google search."
   ]
  },
  {
   "cell_type": "markdown",
   "metadata": {
    "collapsed": true
   },
   "source": [
    "This is a simplified NTP client which assumes that the server response time <<< accuracy needed ~ milliseconds. The calculations are thus elementary"
   ]
  },
  {
   "cell_type": "markdown",
   "metadata": {},
   "source": [
    "Code must run as administrator to change system time"
   ]
  },
  {
   "cell_type": "code",
   "execution_count": 1,
   "metadata": {
    "collapsed": true
   },
   "outputs": [],
   "source": [
    "import socket\n",
    "import time\n",
    "import sys\n",
    "import win32api"
   ]
  },
  {
   "cell_type": "code",
   "execution_count": 19,
   "metadata": {},
   "outputs": [
    {
     "name": "stdout",
     "output_type": "stream",
     "text": [
      "Getting NTP time from ntp.is.co.za on port 123 ...\n",
      "\n",
      "Roundtrip delay:  0.033 (s)\n",
      "\n",
      "Correction factor: 0.04 (s)\n",
      "\n",
      "Syncing system time to atomic clock: 20 h 18 m 51 , 144 s\n"
     ]
    }
   ],
   "source": [
    "address = 'ntp.is.co.za' #chosen for its very short round trip time\n",
    "port = 123\n",
    "datapacket = b'\\x1b' + 47 * b'\\0'\n",
    "print (\"Getting NTP time from\", address, \"on port\", port, \"...\\n\")\n",
    "\n",
    "starttimer = time.time()\n",
    "\n",
    "try:\n",
    "    ntp_server = socket.socket(socket.AF_INET, socket.SOCK_DGRAM) # the socket connects to the specified NTP server through the internet and socket type is UDP (User Datagram Protocol)\n",
    "    ntp_server.sendto(datapacket, (address, port))\n",
    "    data, addr = ntp_server.recvfrom(1024) # buffer size is 1024 bytes\n",
    "except:\n",
    "    print (\"An error occured! Please try again later\")\n",
    "    sys.exit()    \n",
    "    \n",
    "stoptimer = time.time()\n",
    "\n",
    "systemtime = starttimer\n",
    "servertime = int.from_bytes(data[32:36],'big') + (int.from_bytes(data[36:40],'big'))/(2**32) - 2208988800 # Convert NTP (1900) timestamp to 1970 epoch (Windows)\n",
    "\n",
    "roundtripdelay = stoptimer-starttimer\n",
    "\n",
    "correction = servertime - (systemtime + roundtripdelay/2)\n",
    "\n",
    "print (\"Roundtrip delay: \", round(roundtripdelay,3), \"(s)\\n\")\n",
    "\n",
    "print (\"Correction factor:\", round(correction,3), \"(s)\\n\") \n",
    "\n",
    "atomictime = time.time() + correction\n",
    "atomictime_tuple = time.gmtime(atomictime)\n",
    "atomictime_fraction = int(round(atomictime%1,3) * 1000)\n",
    "\n",
    "win32api.SetSystemTime(atomictime_tuple[0],atomictime_tuple[1],atomictime_tuple[6],atomictime_tuple[2],atomictime_tuple[3],atomictime_tuple[4],atomictime_tuple[5],atomictime_fraction)\n",
    "\n",
    "print (\"Syncing system time to atomic clock:\", atomictime_tuple[3],\"h\",atomictime_tuple[4],\"m\",atomictime_tuple[5],\",\",atomictime_fraction,\"s\")\n",
    "\n",
    "ntp_server.close()\n"
   ]
  },
  {
   "cell_type": "code",
   "execution_count": null,
   "metadata": {
    "collapsed": true
   },
   "outputs": [],
   "source": []
  }
 ],
 "metadata": {
  "kernelspec": {
   "display_name": "Python 3",
   "language": "python",
   "name": "python3"
  },
  "language_info": {
   "codemirror_mode": {
    "name": "ipython",
    "version": 3
   },
   "file_extension": ".py",
   "mimetype": "text/x-python",
   "name": "python",
   "nbconvert_exporter": "python",
   "pygments_lexer": "ipython3",
   "version": "3.6.3"
  }
 },
 "nbformat": 4,
 "nbformat_minor": 2
}
